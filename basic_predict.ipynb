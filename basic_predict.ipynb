{
 "cells": [
  {
   "cell_type": "code",
   "execution_count": 1,
   "metadata": {},
   "outputs": [],
   "source": [
    "import pandas as pd\n",
    "import numpy as np"
   ]
  },
  {
   "cell_type": "code",
   "execution_count": 2,
   "metadata": {},
   "outputs": [],
   "source": [
    "mem_data = pd.read_csv('kaggle_data/mem_data.csv')\n",
    "mem_tr = pd.read_csv('kaggle_data/mem_transaction.csv')\n",
    "s_info = pd.read_csv('kaggle_data/store_info.csv')"
   ]
  },
  {
   "cell_type": "code",
   "execution_count": 3,
   "metadata": {},
   "outputs": [
    {
     "name": "stdout",
     "output_type": "stream",
     "text": [
      "<class 'pandas.core.frame.DataFrame'>\n",
      "RangeIndex: 10764 entries, 0 to 10763\n",
      "Data columns (total 15 columns):\n",
      " #   Column       Non-Null Count  Dtype  \n",
      "---  ------       --------------  -----  \n",
      " 0   MEM_ID       10764 non-null  int64  \n",
      " 1   M_STORE_ID   10764 non-null  int64  \n",
      " 2   GENDER       10764 non-null  object \n",
      " 3   BIRTH_DT     5997 non-null   object \n",
      " 4   BIRTH_SL     10764 non-null  object \n",
      " 5   ZIP_CD       10764 non-null  object \n",
      " 6   RGST_DT      10764 non-null  object \n",
      " 7   VISIT_CNT    10764 non-null  float64\n",
      " 8   SALES_AMT    10764 non-null  float64\n",
      " 9   LAST_VST_DT  10764 non-null  object \n",
      " 10  USABLE_PNT   10764 non-null  float64\n",
      " 11  USED_PNT     10764 non-null  float64\n",
      " 12  ACC_PNT      10764 non-null  float64\n",
      " 13  USABLE_INIT  10764 non-null  float64\n",
      " 14  SMS          10764 non-null  object \n",
      "dtypes: float64(6), int64(2), object(7)\n",
      "memory usage: 1.2+ MB\n"
     ]
    }
   ],
   "source": [
    "mem_data.info()"
   ]
  },
  {
   "cell_type": "code",
   "execution_count": 4,
   "metadata": {},
   "outputs": [
    {
     "data": {
      "text/html": [
       "<div>\n",
       "<style scoped>\n",
       "    .dataframe tbody tr th:only-of-type {\n",
       "        vertical-align: middle;\n",
       "    }\n",
       "\n",
       "    .dataframe tbody tr th {\n",
       "        vertical-align: top;\n",
       "    }\n",
       "\n",
       "    .dataframe thead th {\n",
       "        text-align: right;\n",
       "    }\n",
       "</style>\n",
       "<table border=\"1\" class=\"dataframe\">\n",
       "  <thead>\n",
       "    <tr style=\"text-align: right;\">\n",
       "      <th></th>\n",
       "      <th>STORE_ID</th>\n",
       "      <th>SELL_DT</th>\n",
       "      <th>MEMP_STY</th>\n",
       "      <th>MEM_ID</th>\n",
       "      <th>MEMP_DT</th>\n",
       "      <th>SELL_AMT</th>\n",
       "      <th>MEMP_TP</th>\n",
       "    </tr>\n",
       "  </thead>\n",
       "  <tbody>\n",
       "    <tr>\n",
       "      <th>0</th>\n",
       "      <td>125</td>\n",
       "      <td>20060227</td>\n",
       "      <td>O</td>\n",
       "      <td>1225434</td>\n",
       "      <td>2006-02-27 13:57:44.750000000</td>\n",
       "      <td>15500</td>\n",
       "      <td>A</td>\n",
       "    </tr>\n",
       "    <tr>\n",
       "      <th>1</th>\n",
       "      <td>125</td>\n",
       "      <td>20060303</td>\n",
       "      <td>O</td>\n",
       "      <td>1181938</td>\n",
       "      <td>2006-03-03 15:43:56.987000000</td>\n",
       "      <td>22600</td>\n",
       "      <td>A</td>\n",
       "    </tr>\n",
       "    <tr>\n",
       "      <th>2</th>\n",
       "      <td>125</td>\n",
       "      <td>20060322</td>\n",
       "      <td>O</td>\n",
       "      <td>6093</td>\n",
       "      <td>2006-03-22 18:08:45.563000000</td>\n",
       "      <td>11000</td>\n",
       "      <td>A</td>\n",
       "    </tr>\n",
       "    <tr>\n",
       "      <th>3</th>\n",
       "      <td>125</td>\n",
       "      <td>20060403</td>\n",
       "      <td>O</td>\n",
       "      <td>1398202</td>\n",
       "      <td>2006-04-03 13:36:27.040000000</td>\n",
       "      <td>14400</td>\n",
       "      <td>A</td>\n",
       "    </tr>\n",
       "    <tr>\n",
       "      <th>4</th>\n",
       "      <td>125</td>\n",
       "      <td>20060418</td>\n",
       "      <td>O</td>\n",
       "      <td>1225434</td>\n",
       "      <td>2006-04-18 16:04:39.583000000</td>\n",
       "      <td>6600</td>\n",
       "      <td>A</td>\n",
       "    </tr>\n",
       "  </tbody>\n",
       "</table>\n",
       "</div>"
      ],
      "text/plain": [
       "   STORE_ID   SELL_DT MEMP_STY   MEM_ID                        MEMP_DT  \\\n",
       "0       125  20060227        O  1225434  2006-02-27 13:57:44.750000000   \n",
       "1       125  20060303        O  1181938  2006-03-03 15:43:56.987000000   \n",
       "2       125  20060322        O     6093  2006-03-22 18:08:45.563000000   \n",
       "3       125  20060403        O  1398202  2006-04-03 13:36:27.040000000   \n",
       "4       125  20060418        O  1225434  2006-04-18 16:04:39.583000000   \n",
       "\n",
       "   SELL_AMT MEMP_TP  \n",
       "0     15500       A  \n",
       "1     22600       A  \n",
       "2     11000       A  \n",
       "3     14400       A  \n",
       "4      6600       A  "
      ]
     },
     "execution_count": 4,
     "metadata": {},
     "output_type": "execute_result"
    }
   ],
   "source": [
    "mem_tr.head()"
   ]
  },
  {
   "cell_type": "code",
   "execution_count": 5,
   "metadata": {},
   "outputs": [
    {
     "data": {
      "text/plain": [
       "F          3767\n",
       "M          3767\n",
       "UNKNOWN    3230\n",
       "Name: GENDER, dtype: int64"
      ]
     },
     "execution_count": 5,
     "metadata": {},
     "output_type": "execute_result"
    }
   ],
   "source": [
    "mem_data.GENDER.value_counts()"
   ]
  },
  {
   "cell_type": "code",
   "execution_count": 6,
   "metadata": {},
   "outputs": [
    {
     "data": {
      "text/plain": [
       "Y    10575\n",
       "N      189\n",
       "Name: SMS, dtype: int64"
      ]
     },
     "execution_count": 6,
     "metadata": {},
     "output_type": "execute_result"
    }
   ],
   "source": [
    "mem_data.SMS.value_counts()"
   ]
  },
  {
   "cell_type": "code",
   "execution_count": 7,
   "metadata": {},
   "outputs": [
    {
     "data": {
      "text/plain": [
       "1    10575\n",
       "0      189\n",
       "Name: SMS, dtype: int64"
      ]
     },
     "execution_count": 7,
     "metadata": {},
     "output_type": "execute_result"
    }
   ],
   "source": [
    "# SMS 수신동의 정수 처리하기\n",
    "mem_data.SMS = (mem_data.SMS=='Y').astype(int)\n",
    "mem_data.SMS.value_counts()"
   ]
  },
  {
   "cell_type": "code",
   "execution_count": 8,
   "metadata": {},
   "outputs": [
    {
     "data": {
      "text/plain": [
       "0    10764\n",
       "Name: BIRTH_SL, dtype: int64"
      ]
     },
     "execution_count": 8,
     "metadata": {},
     "output_type": "execute_result"
    }
   ],
   "source": [
    "# 양/음력(BIRTH_SL) 정수 처리하기\n",
    "mem_data.BIRTH_SL = (mem_data.BIRTH_SL=='Y').astype(int)\n",
    "mem_data.BIRTH_SL.value_counts()"
   ]
  },
  {
   "cell_type": "code",
   "execution_count": 9,
   "metadata": {},
   "outputs": [],
   "source": [
    "# 구매 합계(SALES_AMT) 로그 처리 하기\n",
    "# 참고 : 로그처리에는 음수가 들어갈 수 없음 / 0이 있을 경우 1을 더하고 처리\n",
    "f = mem_data.SALES_AMT.where(mem_data.SALES_AMT>=0, other=0) # 음수처리\n",
    "f = np.log(f+1)\n",
    "mem_data.SALES_AMT = f"
   ]
  },
  {
   "cell_type": "code",
   "execution_count": 10,
   "metadata": {},
   "outputs": [
    {
     "data": {
      "text/plain": [
       "0    327\n",
       "1     55\n",
       "2    196\n",
       "3     57\n",
       "4    262\n",
       "Name: E_DAY, dtype: int64"
      ]
     },
     "execution_count": 10,
     "metadata": {},
     "output_type": "execute_result"
    }
   ],
   "source": [
    "# 최근 방문 일자(LAST_VST_DT)로부터 경과일 구하기\n",
    "f = pd.to_datetime(mem_data.LAST_VST_DT) # 날짜가 Object 이므로 숫자 처리\n",
    "f = (pd.to_datetime('2007-12-13') - f).dt.days #방문이 얼마나 오래되었는지 ,time 등으로 알고 싶은 것으로 바꿀 수 있다.\n",
    "mem_data['E_DAY'] = f\n",
    "mem_data.E_DAY.head()"
   ]
  },
  {
   "cell_type": "code",
   "execution_count": 11,
   "metadata": {},
   "outputs": [],
   "source": [
    "f = pd.to_datetime(mem_data.LAST_VST_DT)\n",
    "f = (pd.to_datetime('2007-12-13') - f)"
   ]
  },
  {
   "cell_type": "code",
   "execution_count": 12,
   "metadata": {},
   "outputs": [
    {
     "data": {
      "text/plain": [
       "Series([], Name: LAST_VST_DT, dtype: timedelta64[ns])"
      ]
     },
     "execution_count": 12,
     "metadata": {},
     "output_type": "execute_result"
    }
   ],
   "source": [
    "f[f.isna()]"
   ]
  },
  {
   "cell_type": "code",
   "execution_count": 13,
   "metadata": {},
   "outputs": [
    {
     "data": {
      "text/plain": [
       "'2006-06-02 11:31:20.640000000'"
      ]
     },
     "execution_count": 13,
     "metadata": {},
     "output_type": "execute_result"
    }
   ],
   "source": [
    "mem_data.LAST_VST_DT[1612]"
   ]
  },
  {
   "cell_type": "code",
   "execution_count": 14,
   "metadata": {},
   "outputs": [
    {
     "data": {
      "text/plain": [
       "0"
      ]
     },
     "execution_count": 14,
     "metadata": {},
     "output_type": "execute_result"
    }
   ],
   "source": [
    "f.isna().sum()"
   ]
  },
  {
   "cell_type": "code",
   "execution_count": 15,
   "metadata": {},
   "outputs": [],
   "source": [
    "mem_data = mem_data.merge(mem_tr, how='left')\n",
    "mem_data.iloc[:,-1] = mem_data.iloc[:,-1].fillna(0)"
   ]
  },
  {
   "cell_type": "code",
   "execution_count": 16,
   "metadata": {},
   "outputs": [
    {
     "name": "stdout",
     "output_type": "stream",
     "text": [
      "<class 'pandas.core.frame.DataFrame'>\n",
      "Int64Index: 60049 entries, 0 to 60048\n",
      "Data columns (total 13 columns):\n",
      " #   Column       Non-Null Count  Dtype  \n",
      "---  ------       --------------  -----  \n",
      " 0   MEM_ID       60049 non-null  int64  \n",
      " 1   GENDER       60049 non-null  object \n",
      " 2   VISIT_CNT    60049 non-null  float64\n",
      " 3   SALES_AMT    60049 non-null  float64\n",
      " 4   USABLE_PNT   60049 non-null  float64\n",
      " 5   USED_PNT     60049 non-null  float64\n",
      " 6   ACC_PNT      60049 non-null  float64\n",
      " 7   USABLE_INIT  60049 non-null  float64\n",
      " 8   SMS          60049 non-null  int32  \n",
      " 9   E_DAY        60049 non-null  int64  \n",
      " 10  STORE_ID     60049 non-null  int64  \n",
      " 11  SELL_DT      60049 non-null  int64  \n",
      " 12  SELL_AMT     60049 non-null  int64  \n",
      "dtypes: float64(6), int32(1), int64(5), object(1)\n",
      "memory usage: 6.2+ MB\n"
     ]
    }
   ],
   "source": [
    "d_col = ['BIRTH_SL','M_STORE_ID','BIRTH_DT','ZIP_CD','RGST_DT','LAST_VST_DT', 'MEMP_STY', 'MEMP_DT', 'MEMP_TP']\n",
    "mem_data = mem_data.drop(d_col, axis=1)\n",
    "mem_data.info()"
   ]
  },
  {
   "cell_type": "code",
   "execution_count": 17,
   "metadata": {},
   "outputs": [
    {
     "name": "stderr",
     "output_type": "stream",
     "text": [
      "C:\\Users\\Big4s\\Anaconda3\\lib\\site-packages\\pandas\\core\\generic.py:5303: SettingWithCopyWarning: \n",
      "A value is trying to be set on a copy of a slice from a DataFrame.\n",
      "Try using .loc[row_indexer,col_indexer] = value instead\n",
      "\n",
      "See the caveats in the documentation: https://pandas.pydata.org/pandas-docs/stable/user_guide/indexing.html#returning-a-view-versus-a-copy\n",
      "  self[name] = value\n"
     ]
    }
   ],
   "source": [
    "np.random.seed(123)\n",
    "\n",
    "tr = mem_data.GENDER!='UNKNOWN'\n",
    "train = mem_data[tr]\n",
    "train.GENDER = (train.GENDER=='M').astype(int)"
   ]
  },
  {
   "cell_type": "code",
   "execution_count": 18,
   "metadata": {},
   "outputs": [
    {
     "data": {
      "text/html": [
       "<div>\n",
       "<style scoped>\n",
       "    .dataframe tbody tr th:only-of-type {\n",
       "        vertical-align: middle;\n",
       "    }\n",
       "\n",
       "    .dataframe tbody tr th {\n",
       "        vertical-align: top;\n",
       "    }\n",
       "\n",
       "    .dataframe thead th {\n",
       "        text-align: right;\n",
       "    }\n",
       "</style>\n",
       "<table border=\"1\" class=\"dataframe\">\n",
       "  <thead>\n",
       "    <tr style=\"text-align: right;\">\n",
       "      <th></th>\n",
       "      <th>MEM_ID</th>\n",
       "      <th>GENDER</th>\n",
       "      <th>VISIT_CNT</th>\n",
       "      <th>SALES_AMT</th>\n",
       "      <th>USABLE_PNT</th>\n",
       "      <th>USED_PNT</th>\n",
       "      <th>ACC_PNT</th>\n",
       "      <th>USABLE_INIT</th>\n",
       "      <th>SMS</th>\n",
       "      <th>E_DAY</th>\n",
       "      <th>STORE_ID</th>\n",
       "      <th>SELL_DT</th>\n",
       "      <th>SELL_AMT</th>\n",
       "    </tr>\n",
       "  </thead>\n",
       "  <tbody>\n",
       "    <tr>\n",
       "      <th>50817</th>\n",
       "      <td>1054</td>\n",
       "      <td>UNKNOWN</td>\n",
       "      <td>5.0</td>\n",
       "      <td>12.358369</td>\n",
       "      <td>29158.0</td>\n",
       "      <td>0.0</td>\n",
       "      <td>29158.0</td>\n",
       "      <td>846.0</td>\n",
       "      <td>0</td>\n",
       "      <td>57</td>\n",
       "      <td>1421</td>\n",
       "      <td>20060315</td>\n",
       "      <td>15400</td>\n",
       "    </tr>\n",
       "    <tr>\n",
       "      <th>50816</th>\n",
       "      <td>1054</td>\n",
       "      <td>UNKNOWN</td>\n",
       "      <td>5.0</td>\n",
       "      <td>12.358369</td>\n",
       "      <td>29158.0</td>\n",
       "      <td>0.0</td>\n",
       "      <td>29158.0</td>\n",
       "      <td>846.0</td>\n",
       "      <td>0</td>\n",
       "      <td>57</td>\n",
       "      <td>1274</td>\n",
       "      <td>20071016</td>\n",
       "      <td>17600</td>\n",
       "    </tr>\n",
       "    <tr>\n",
       "      <th>50815</th>\n",
       "      <td>1054</td>\n",
       "      <td>UNKNOWN</td>\n",
       "      <td>5.0</td>\n",
       "      <td>12.358369</td>\n",
       "      <td>29158.0</td>\n",
       "      <td>0.0</td>\n",
       "      <td>29158.0</td>\n",
       "      <td>846.0</td>\n",
       "      <td>0</td>\n",
       "      <td>57</td>\n",
       "      <td>1274</td>\n",
       "      <td>20061026</td>\n",
       "      <td>14800</td>\n",
       "    </tr>\n",
       "  </tbody>\n",
       "</table>\n",
       "</div>"
      ],
      "text/plain": [
       "       MEM_ID   GENDER  VISIT_CNT  SALES_AMT  USABLE_PNT  USED_PNT  ACC_PNT  \\\n",
       "50817    1054  UNKNOWN        5.0  12.358369     29158.0       0.0  29158.0   \n",
       "50816    1054  UNKNOWN        5.0  12.358369     29158.0       0.0  29158.0   \n",
       "50815    1054  UNKNOWN        5.0  12.358369     29158.0       0.0  29158.0   \n",
       "\n",
       "       USABLE_INIT  SMS  E_DAY  STORE_ID   SELL_DT  SELL_AMT  \n",
       "50817        846.0    0     57      1421  20060315     15400  \n",
       "50816        846.0    0     57      1274  20071016     17600  \n",
       "50815        846.0    0     57      1274  20061026     14800  "
      ]
     },
     "execution_count": 18,
     "metadata": {},
     "output_type": "execute_result"
    }
   ],
   "source": [
    "te = mem_data.GENDER=='UNKNOWN'\n",
    "test = mem_data[te].sort_values('MEM_ID')\n",
    "test.head(3)"
   ]
  },
  {
   "cell_type": "code",
   "execution_count": 19,
   "metadata": {},
   "outputs": [
    {
     "data": {
      "text/html": [
       "<div>\n",
       "<style scoped>\n",
       "    .dataframe tbody tr th:only-of-type {\n",
       "        vertical-align: middle;\n",
       "    }\n",
       "\n",
       "    .dataframe tbody tr th {\n",
       "        vertical-align: top;\n",
       "    }\n",
       "\n",
       "    .dataframe thead th {\n",
       "        text-align: right;\n",
       "    }\n",
       "</style>\n",
       "<table border=\"1\" class=\"dataframe\">\n",
       "  <thead>\n",
       "    <tr style=\"text-align: right;\">\n",
       "      <th></th>\n",
       "      <th>MEM_ID</th>\n",
       "      <th>GENDER</th>\n",
       "      <th>VISIT_CNT</th>\n",
       "      <th>SALES_AMT</th>\n",
       "      <th>USABLE_PNT</th>\n",
       "      <th>USED_PNT</th>\n",
       "      <th>ACC_PNT</th>\n",
       "      <th>USABLE_INIT</th>\n",
       "      <th>SMS</th>\n",
       "      <th>E_DAY</th>\n",
       "      <th>STORE_ID</th>\n",
       "      <th>SELL_DT</th>\n",
       "      <th>SELL_AMT</th>\n",
       "    </tr>\n",
       "  </thead>\n",
       "  <tbody>\n",
       "    <tr>\n",
       "      <th>0</th>\n",
       "      <td>1134945</td>\n",
       "      <td>1</td>\n",
       "      <td>8.0</td>\n",
       "      <td>12.727841</td>\n",
       "      <td>6740.0</td>\n",
       "      <td>0.0</td>\n",
       "      <td>6740.0</td>\n",
       "      <td>3202.0</td>\n",
       "      <td>1</td>\n",
       "      <td>327</td>\n",
       "      <td>1084</td>\n",
       "      <td>20060315</td>\n",
       "      <td>10000</td>\n",
       "    </tr>\n",
       "    <tr>\n",
       "      <th>1</th>\n",
       "      <td>1134945</td>\n",
       "      <td>1</td>\n",
       "      <td>8.0</td>\n",
       "      <td>12.727841</td>\n",
       "      <td>6740.0</td>\n",
       "      <td>0.0</td>\n",
       "      <td>6740.0</td>\n",
       "      <td>3202.0</td>\n",
       "      <td>1</td>\n",
       "      <td>327</td>\n",
       "      <td>1084</td>\n",
       "      <td>20060404</td>\n",
       "      <td>22300</td>\n",
       "    </tr>\n",
       "    <tr>\n",
       "      <th>2</th>\n",
       "      <td>1134945</td>\n",
       "      <td>1</td>\n",
       "      <td>8.0</td>\n",
       "      <td>12.727841</td>\n",
       "      <td>6740.0</td>\n",
       "      <td>0.0</td>\n",
       "      <td>6740.0</td>\n",
       "      <td>3202.0</td>\n",
       "      <td>1</td>\n",
       "      <td>327</td>\n",
       "      <td>1084</td>\n",
       "      <td>20060601</td>\n",
       "      <td>32000</td>\n",
       "    </tr>\n",
       "    <tr>\n",
       "      <th>3</th>\n",
       "      <td>1134945</td>\n",
       "      <td>1</td>\n",
       "      <td>8.0</td>\n",
       "      <td>12.727841</td>\n",
       "      <td>6740.0</td>\n",
       "      <td>0.0</td>\n",
       "      <td>6740.0</td>\n",
       "      <td>3202.0</td>\n",
       "      <td>1</td>\n",
       "      <td>327</td>\n",
       "      <td>1084</td>\n",
       "      <td>20061030</td>\n",
       "      <td>3000</td>\n",
       "    </tr>\n",
       "    <tr>\n",
       "      <th>4</th>\n",
       "      <td>1134945</td>\n",
       "      <td>1</td>\n",
       "      <td>8.0</td>\n",
       "      <td>12.727841</td>\n",
       "      <td>6740.0</td>\n",
       "      <td>0.0</td>\n",
       "      <td>6740.0</td>\n",
       "      <td>3202.0</td>\n",
       "      <td>1</td>\n",
       "      <td>327</td>\n",
       "      <td>1084</td>\n",
       "      <td>20061030</td>\n",
       "      <td>15300</td>\n",
       "    </tr>\n",
       "  </tbody>\n",
       "</table>\n",
       "</div>"
      ],
      "text/plain": [
       "    MEM_ID  GENDER  VISIT_CNT  SALES_AMT  USABLE_PNT  USED_PNT  ACC_PNT  \\\n",
       "0  1134945       1        8.0  12.727841      6740.0       0.0   6740.0   \n",
       "1  1134945       1        8.0  12.727841      6740.0       0.0   6740.0   \n",
       "2  1134945       1        8.0  12.727841      6740.0       0.0   6740.0   \n",
       "3  1134945       1        8.0  12.727841      6740.0       0.0   6740.0   \n",
       "4  1134945       1        8.0  12.727841      6740.0       0.0   6740.0   \n",
       "\n",
       "   USABLE_INIT  SMS  E_DAY  STORE_ID   SELL_DT  SELL_AMT  \n",
       "0       3202.0    1    327      1084  20060315     10000  \n",
       "1       3202.0    1    327      1084  20060404     22300  \n",
       "2       3202.0    1    327      1084  20060601     32000  \n",
       "3       3202.0    1    327      1084  20061030      3000  \n",
       "4       3202.0    1    327      1084  20061030     15300  "
      ]
     },
     "execution_count": 19,
     "metadata": {},
     "output_type": "execute_result"
    }
   ],
   "source": [
    "train.head()"
   ]
  },
  {
   "cell_type": "code",
   "execution_count": 20,
   "metadata": {},
   "outputs": [
    {
     "data": {
      "text/html": [
       "<div>\n",
       "<style scoped>\n",
       "    .dataframe tbody tr th:only-of-type {\n",
       "        vertical-align: middle;\n",
       "    }\n",
       "\n",
       "    .dataframe tbody tr th {\n",
       "        vertical-align: top;\n",
       "    }\n",
       "\n",
       "    .dataframe thead th {\n",
       "        text-align: right;\n",
       "    }\n",
       "</style>\n",
       "<table border=\"1\" class=\"dataframe\">\n",
       "  <thead>\n",
       "    <tr style=\"text-align: right;\">\n",
       "      <th></th>\n",
       "      <th>MEM_ID</th>\n",
       "      <th>GENDER</th>\n",
       "      <th>VISIT_CNT</th>\n",
       "      <th>SALES_AMT</th>\n",
       "      <th>USABLE_PNT</th>\n",
       "      <th>USED_PNT</th>\n",
       "      <th>ACC_PNT</th>\n",
       "      <th>USABLE_INIT</th>\n",
       "      <th>SMS</th>\n",
       "      <th>E_DAY</th>\n",
       "      <th>STORE_ID</th>\n",
       "      <th>SELL_DT</th>\n",
       "      <th>SELL_AMT</th>\n",
       "    </tr>\n",
       "  </thead>\n",
       "  <tbody>\n",
       "    <tr>\n",
       "      <th>0</th>\n",
       "      <td>1134945</td>\n",
       "      <td>M</td>\n",
       "      <td>8.0</td>\n",
       "      <td>12.727841</td>\n",
       "      <td>6740.0</td>\n",
       "      <td>0.0</td>\n",
       "      <td>6740.0</td>\n",
       "      <td>3202.0</td>\n",
       "      <td>1</td>\n",
       "      <td>327</td>\n",
       "      <td>1084</td>\n",
       "      <td>20060315</td>\n",
       "      <td>10000</td>\n",
       "    </tr>\n",
       "    <tr>\n",
       "      <th>1</th>\n",
       "      <td>1134945</td>\n",
       "      <td>M</td>\n",
       "      <td>8.0</td>\n",
       "      <td>12.727841</td>\n",
       "      <td>6740.0</td>\n",
       "      <td>0.0</td>\n",
       "      <td>6740.0</td>\n",
       "      <td>3202.0</td>\n",
       "      <td>1</td>\n",
       "      <td>327</td>\n",
       "      <td>1084</td>\n",
       "      <td>20060404</td>\n",
       "      <td>22300</td>\n",
       "    </tr>\n",
       "    <tr>\n",
       "      <th>2</th>\n",
       "      <td>1134945</td>\n",
       "      <td>M</td>\n",
       "      <td>8.0</td>\n",
       "      <td>12.727841</td>\n",
       "      <td>6740.0</td>\n",
       "      <td>0.0</td>\n",
       "      <td>6740.0</td>\n",
       "      <td>3202.0</td>\n",
       "      <td>1</td>\n",
       "      <td>327</td>\n",
       "      <td>1084</td>\n",
       "      <td>20060601</td>\n",
       "      <td>32000</td>\n",
       "    </tr>\n",
       "    <tr>\n",
       "      <th>3</th>\n",
       "      <td>1134945</td>\n",
       "      <td>M</td>\n",
       "      <td>8.0</td>\n",
       "      <td>12.727841</td>\n",
       "      <td>6740.0</td>\n",
       "      <td>0.0</td>\n",
       "      <td>6740.0</td>\n",
       "      <td>3202.0</td>\n",
       "      <td>1</td>\n",
       "      <td>327</td>\n",
       "      <td>1084</td>\n",
       "      <td>20061030</td>\n",
       "      <td>3000</td>\n",
       "    </tr>\n",
       "    <tr>\n",
       "      <th>4</th>\n",
       "      <td>1134945</td>\n",
       "      <td>M</td>\n",
       "      <td>8.0</td>\n",
       "      <td>12.727841</td>\n",
       "      <td>6740.0</td>\n",
       "      <td>0.0</td>\n",
       "      <td>6740.0</td>\n",
       "      <td>3202.0</td>\n",
       "      <td>1</td>\n",
       "      <td>327</td>\n",
       "      <td>1084</td>\n",
       "      <td>20061030</td>\n",
       "      <td>15300</td>\n",
       "    </tr>\n",
       "  </tbody>\n",
       "</table>\n",
       "</div>"
      ],
      "text/plain": [
       "    MEM_ID GENDER  VISIT_CNT  SALES_AMT  USABLE_PNT  USED_PNT  ACC_PNT  \\\n",
       "0  1134945      M        8.0  12.727841      6740.0       0.0   6740.0   \n",
       "1  1134945      M        8.0  12.727841      6740.0       0.0   6740.0   \n",
       "2  1134945      M        8.0  12.727841      6740.0       0.0   6740.0   \n",
       "3  1134945      M        8.0  12.727841      6740.0       0.0   6740.0   \n",
       "4  1134945      M        8.0  12.727841      6740.0       0.0   6740.0   \n",
       "\n",
       "   USABLE_INIT  SMS  E_DAY  STORE_ID   SELL_DT  SELL_AMT  \n",
       "0       3202.0    1    327      1084  20060315     10000  \n",
       "1       3202.0    1    327      1084  20060404     22300  \n",
       "2       3202.0    1    327      1084  20060601     32000  \n",
       "3       3202.0    1    327      1084  20061030      3000  \n",
       "4       3202.0    1    327      1084  20061030     15300  "
      ]
     },
     "execution_count": 20,
     "metadata": {},
     "output_type": "execute_result"
    }
   ],
   "source": [
    "mem_data.head()"
   ]
  },
  {
   "cell_type": "code",
   "execution_count": 21,
   "metadata": {},
   "outputs": [],
   "source": [
    "from sklearn.model_selection import train_test_split\n",
    "from sklearn.ensemble import RandomForestClassifier\n",
    "from sklearn.model_selection import RandomizedSearchCV, StratifiedKFold\n",
    "import glob"
   ]
  },
  {
   "cell_type": "code",
   "execution_count": 22,
   "metadata": {},
   "outputs": [],
   "source": [
    "kfold = StratifiedKFold(n_splits=5) # 하이퍼 파라미터 지정\n",
    "n_it = 12"
   ]
  },
  {
   "cell_type": "code",
   "execution_count": 23,
   "metadata": {},
   "outputs": [
    {
     "data": {
      "text/html": [
       "<div>\n",
       "<style scoped>\n",
       "    .dataframe tbody tr th:only-of-type {\n",
       "        vertical-align: middle;\n",
       "    }\n",
       "\n",
       "    .dataframe tbody tr th {\n",
       "        vertical-align: top;\n",
       "    }\n",
       "\n",
       "    .dataframe thead th {\n",
       "        text-align: right;\n",
       "    }\n",
       "</style>\n",
       "<table border=\"1\" class=\"dataframe\">\n",
       "  <thead>\n",
       "    <tr style=\"text-align: right;\">\n",
       "      <th></th>\n",
       "      <th>MEM_ID</th>\n",
       "      <th>GENDER</th>\n",
       "    </tr>\n",
       "  </thead>\n",
       "  <tbody>\n",
       "    <tr>\n",
       "      <th>50817</th>\n",
       "      <td>1054</td>\n",
       "      <td>UNKNOWN</td>\n",
       "    </tr>\n",
       "    <tr>\n",
       "      <th>50816</th>\n",
       "      <td>1054</td>\n",
       "      <td>UNKNOWN</td>\n",
       "    </tr>\n",
       "    <tr>\n",
       "      <th>50815</th>\n",
       "      <td>1054</td>\n",
       "      <td>UNKNOWN</td>\n",
       "    </tr>\n",
       "    <tr>\n",
       "      <th>50814</th>\n",
       "      <td>1054</td>\n",
       "      <td>UNKNOWN</td>\n",
       "    </tr>\n",
       "    <tr>\n",
       "      <th>50813</th>\n",
       "      <td>1054</td>\n",
       "      <td>UNKNOWN</td>\n",
       "    </tr>\n",
       "  </tbody>\n",
       "</table>\n",
       "</div>"
      ],
      "text/plain": [
       "       MEM_ID   GENDER\n",
       "50817    1054  UNKNOWN\n",
       "50816    1054  UNKNOWN\n",
       "50815    1054  UNKNOWN\n",
       "50814    1054  UNKNOWN\n",
       "50813    1054  UNKNOWN"
      ]
     },
     "execution_count": 23,
     "metadata": {},
     "output_type": "execute_result"
    }
   ],
   "source": [
    "t_final = test[['MEM_ID', 'GENDER']]\n",
    "t_final.head()"
   ]
  },
  {
   "cell_type": "code",
   "execution_count": 24,
   "metadata": {},
   "outputs": [],
   "source": [
    "test = test.drop(['GENDER','MEM_ID'], axis=1)\n",
    "target = train.GENDER.values\n",
    "train = train.drop(['GENDER','MEM_ID'], axis=1)"
   ]
  },
  {
   "cell_type": "code",
   "execution_count": 25,
   "metadata": {},
   "outputs": [
    {
     "name": "stdout",
     "output_type": "stream",
     "text": [
      "(39569, 11) (20480, 11)\n"
     ]
    }
   ],
   "source": [
    "print(train.shape, test.shape)"
   ]
  },
  {
   "cell_type": "code",
   "execution_count": 26,
   "metadata": {},
   "outputs": [
    {
     "name": "stdout",
     "output_type": "stream",
     "text": [
      "MODELING.............................................................................\n",
      "Fitting 5 folds for each of 12 candidates, totalling 60 fits\n"
     ]
    },
    {
     "name": "stderr",
     "output_type": "stream",
     "text": [
      "[Parallel(n_jobs=-1)]: Using backend LokyBackend with 8 concurrent workers.\n",
      "[Parallel(n_jobs=-1)]: Done  34 tasks      | elapsed:  1.8min\n",
      "[Parallel(n_jobs=-1)]: Done  60 out of  60 | elapsed:  3.0min finished\n"
     ]
    },
    {
     "name": "stdout",
     "output_type": "stream",
     "text": [
      "========BEST_AUC_SCORE =  0.7338613334432844\n"
     ]
    }
   ],
   "source": [
    "params = {'max_features':list(np.arange(1, train.shape[1])), 'bootstrap':[False], 'n_estimators': [50], 'criterion':['gini','entropy']}\n",
    "model = RandomizedSearchCV(RandomForestClassifier(), param_distributions=params, n_iter=n_it, cv=kfold, scoring='roc_auc',n_jobs=-1, verbose=1)\n",
    "print('MODELING.............................................................................')\n",
    "model.fit(train, target)\n",
    "print('========BEST_AUC_SCORE = ', model.best_score_)\n",
    "model = model.best_estimator_\n",
    "t_final.GENDER = model.predict_proba(test.values)[:,1]"
   ]
  },
  {
   "cell_type": "code",
   "execution_count": 27,
   "metadata": {},
   "outputs": [
    {
     "data": {
      "text/html": [
       "<div>\n",
       "<style scoped>\n",
       "    .dataframe tbody tr th:only-of-type {\n",
       "        vertical-align: middle;\n",
       "    }\n",
       "\n",
       "    .dataframe tbody tr th {\n",
       "        vertical-align: top;\n",
       "    }\n",
       "\n",
       "    .dataframe thead th {\n",
       "        text-align: right;\n",
       "    }\n",
       "</style>\n",
       "<table border=\"1\" class=\"dataframe\">\n",
       "  <thead>\n",
       "    <tr style=\"text-align: right;\">\n",
       "      <th></th>\n",
       "      <th>MEM_ID</th>\n",
       "      <th>GENDER</th>\n",
       "    </tr>\n",
       "  </thead>\n",
       "  <tbody>\n",
       "    <tr>\n",
       "      <th>50817</th>\n",
       "      <td>1054</td>\n",
       "      <td>0.58</td>\n",
       "    </tr>\n",
       "    <tr>\n",
       "      <th>50816</th>\n",
       "      <td>1054</td>\n",
       "      <td>0.68</td>\n",
       "    </tr>\n",
       "    <tr>\n",
       "      <th>50815</th>\n",
       "      <td>1054</td>\n",
       "      <td>0.66</td>\n",
       "    </tr>\n",
       "    <tr>\n",
       "      <th>50814</th>\n",
       "      <td>1054</td>\n",
       "      <td>0.54</td>\n",
       "    </tr>\n",
       "    <tr>\n",
       "      <th>50813</th>\n",
       "      <td>1054</td>\n",
       "      <td>0.54</td>\n",
       "    </tr>\n",
       "  </tbody>\n",
       "</table>\n",
       "</div>"
      ],
      "text/plain": [
       "       MEM_ID  GENDER\n",
       "50817    1054    0.58\n",
       "50816    1054    0.68\n",
       "50815    1054    0.66\n",
       "50814    1054    0.54\n",
       "50813    1054    0.54"
      ]
     },
     "execution_count": 27,
     "metadata": {},
     "output_type": "execute_result"
    }
   ],
   "source": [
    "t_final.head()"
   ]
  },
  {
   "cell_type": "code",
   "execution_count": 28,
   "metadata": {},
   "outputs": [
    {
     "name": "stdout",
     "output_type": "stream",
     "text": [
      "COMPLETE\n"
     ]
    }
   ],
   "source": [
    "t_final.to_csv('output_data.csv', index=False)\n",
    "print('COMPLETE')"
   ]
  },
  {
   "cell_type": "code",
   "execution_count": null,
   "metadata": {},
   "outputs": [],
   "source": []
  }
 ],
 "metadata": {
  "kernelspec": {
   "display_name": "Python 3",
   "language": "python",
   "name": "python3"
  },
  "language_info": {
   "codemirror_mode": {
    "name": "ipython",
    "version": 3
   },
   "file_extension": ".py",
   "mimetype": "text/x-python",
   "name": "python",
   "nbconvert_exporter": "python",
   "pygments_lexer": "ipython3",
   "version": "3.7.6"
  }
 },
 "nbformat": 4,
 "nbformat_minor": 4
}
